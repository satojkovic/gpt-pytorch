{
  "nbformat": 4,
  "nbformat_minor": 0,
  "metadata": {
    "colab": {
      "private_outputs": true,
      "provenance": [],
      "machine_shape": "hm",
      "gpuType": "V100"
    },
    "kernelspec": {
      "name": "python3",
      "display_name": "Python 3"
    },
    "language_info": {
      "name": "python"
    },
    "accelerator": "GPU"
  },
  "cells": [
    {
      "cell_type": "code",
      "execution_count": null,
      "metadata": {
        "id": "ma5VwOTFT0CX"
      },
      "outputs": [],
      "source": [
        "import torch\n",
        "import torch.nn as nn"
      ]
    },
    {
      "cell_type": "code",
      "source": [
        "class MaskedMultiSelfAttention(nn.Module):\n",
        "  def __init__(self, h_dim, max_T, n_heads, drop_p):\n",
        "    super().__init__()\n",
        "\n",
        "  def forward(self, x):\n",
        "    pass"
      ],
      "metadata": {
        "id": "THxWrPdLVAd6"
      },
      "execution_count": null,
      "outputs": []
    },
    {
      "cell_type": "code",
      "source": [
        "class TransformerDecoderBlock(nn.Module):\n",
        "  def __init__(self, h_dim, max_T, n_heads, drop_p):\n",
        "    super().__init__()\n",
        "    self.attn = MaskedMultiSelfAttention(h_dim, max_T, n_heads, drop_p)\n",
        "    self.mlp = nn.Sequential(\n",
        "        nn.Linear(h_dim, 4 * h_dim),\n",
        "        nn.GELU(),\n",
        "        nn.Linear(4 * h_dim, h_dim),\n",
        "        nn.Dropout(drop_p)\n",
        "    )\n",
        "    self.ln1 = nn.LayerNorm(h_dim)\n",
        "    self.ln2 = nn.LayerNorm(h_dim)\n",
        "\n",
        "  def foward(self, x):\n",
        "    # MaskedMultiSelfAttention -> LayerNorm -> FeedForward -> LayerNorm\n",
        "    x = self.attn(x) + x\n",
        "    x = self.ln1(x)\n",
        "    x = self.mlp(x) + x\n",
        "    x = self.ln2(x)\n",
        "    return x"
      ],
      "metadata": {
        "id": "copsi6yLUBtW"
      },
      "execution_count": null,
      "outputs": []
    }
  ]
}